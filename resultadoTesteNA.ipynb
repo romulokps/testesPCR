{
  "nbformat": 4,
  "nbformat_minor": 0,
  "metadata": {
    "colab": {
      "name": "resultadoTesteNA.ipynb",
      "provenance": [],
      "authorship_tag": "ABX9TyNAejOjV3l1rBW8BohoOHGF",
      "include_colab_link": true
    },
    "kernelspec": {
      "name": "python3",
      "display_name": "Python 3"
    }
  },
  "cells": [
    {
      "cell_type": "markdown",
      "metadata": {
        "id": "view-in-github",
        "colab_type": "text"
      },
      "source": [
        "<a href=\"https://colab.research.google.com/github/romulokps/testesPCR/blob/main/resultadoTesteNA.ipynb\" target=\"_parent\"><img src=\"https://colab.research.google.com/assets/colab-badge.svg\" alt=\"Open In Colab\"/></a>"
      ]
    },
    {
      "cell_type": "code",
      "metadata": {
        "id": "2tyIgLRzClDX"
      },
      "source": [
        "import pandas as pd\n",
        "import csv\n",
        "from datetime import datetime\n",
        "from scipy import stats\n",
        "import numpy as np\n",
        "\n",
        "caminho = '/content/drive/My Drive/dados/estados 2020-11-07/'\n",
        "caminho = '/content/drive/My Drive/dados/estados 2020-11-13/'\n",
        "caminho = '/content/drive/My Drive/dados/estados 2020-10-21/'\n",
        "caminho = '/content/drive/My Drive/dados/estados 2020-11-15/'\n",
        "pop = pd.read_csv('https://raw.githubusercontent.com/romulokps/testesPCR/main/populacaoBR.csv')\n",
        "pop = pop.sort_values(by = 'pop', ascending=False).head(25)\n",
        "#pop = pop.sort_values(by = 'pop', ascending=False).tail(2)\n",
        "#pop = pop.sort_values(by = 'pop', ascending=False).head(1)\n",
        "pop = pop.sort_values(by = 'estado', ascending=False)\n",
        "#pop = pop.tail(20)\n",
        "#pop = pop.sort_values(by = 'pop', ascending=False).head(6)\n",
        "pop = pop.reset_index()\n",
        "for i in pop.index:\n",
        "    if ((pop.iloc[i]['estado'] != pop.iloc[i-1]['estado']) ):\n",
        "     df = pd.read_csv(caminho + pop.iloc[i]['estado'], low_memory = False)\n",
        "     #df = pd.read_csv(caminho + pop.iloc[i]['estado'], low_memory = False, encoding=\"latin-1\", sep=\";\", error_bad_lines=False)\n",
        "    fe = df  \n",
        "    #fe = fe[fe['tipoTeste'] == 'RT-PCR']\n",
        "    #if (ibge != 0):\n",
        "    fe = fe[fe['municipioNotificacaoIBGE'] == pop.iloc[i]['ibgeID']]\n",
        "    #fe = fe[fe['municipioNotificacaoIBGE'] == str(pop.iloc[i]['ibgeID'])] # TIRAR ESSA LINHA SE FOR DADOS DO ES\n",
        "    estado = pop.iloc[i]['cidade']\n",
        "    #else:\n",
        "      #estado = pop.iloc[i]['estadoNome']\n",
        "    fe = fe[fe['resultadoTeste'].isnull()]\n",
        "    \n",
        "    #fe = fe[fe['resultadoTeste'] != 'Inconclusivo ou Indeterminado']\n",
        "    fe = fe[['dataTeste', 'tipoTeste','estado']]\n",
        "    fe['dataTeste'] = pd.to_datetime(fe['dataTeste']).dt.date\n",
        "    fe = fe[fe['dataTeste'] > datetime.strptime('2020-04-01', '%Y-%m-%d').date()]\n",
        "    #fe = fe.sort_values(by= ['dataTeste'], ascending=False)\n",
        "    fe = fe.replace(np.nan, \"nan\")\n",
        "    fe = pd.get_dummies(fe, columns=['tipoTeste'])\n",
        "    fe = fe.groupby('dataTeste').sum()\n",
        "\n",
        "    #tira os outliers\n",
        "    z_scores = stats.zscore(fe)\n",
        "    abs_z_scores = np.abs(z_scores)\n",
        "    filtered_entries = (abs_z_scores < 13).all(axis=1)\n",
        "    fe = fe[filtered_entries]\n",
        "\n",
        "    #total = (fe['resultadoTeste_Positivo'] + fe['resultadoTeste_Negativo'] +  fe['resultadoTeste_nan'] + fe['resultadoTeste_Inconclusivo ou Indeterminado']) \n",
        "    #taxa = (fe['resultadoTeste_Positivo']/total).rolling(min_periods=1, window=janela).sum()/janela\n",
        "    #taxai = (fe['resultadoTeste_Positivo']/(total - fe['resultadoTeste_nan'])).rolling(min_periods=1, window=janela).sum()/janela\n",
        "    janela = 7\n",
        "    if (i == 0):\n",
        "      total = fe\n",
        "    else:\n",
        "      total = total + fe\n",
        "    for i in range(len(fe.columns)):\n",
        "      fe[fe.columns[i]] = fe[fe.columns[i]].rolling(min_periods=1, window=janela).sum()/janela\n",
        "\n",
        "    ax = fe.plot.area(rot=90, figsize = (20,8), color = [\"blue\",\"gold\",\"black\", \"red\"])\n",
        "    ax.set_title(estado + fe.index[-1].strftime(' %d/%m/%Y'))\n",
        "    ax.set_xlabel(\"Data do teste\")\n",
        "    ax.set_ylabel(\"Quantidade de testes\")\n",
        "    ax.figure.savefig(caminho + \"img/\"+ estado + '.png')\n"
      ],
      "execution_count": null,
      "outputs": []
    }
  ]
}