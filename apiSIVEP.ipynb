{
  "nbformat": 4,
  "nbformat_minor": 0,
  "metadata": {
    "colab": {
      "name": "apiSIVEP.ipynb",
      "provenance": [],
      "authorship_tag": "ABX9TyNo6Y6GKqwZ8vqN5u1bccfX",
      "include_colab_link": true
    },
    "kernelspec": {
      "name": "python3",
      "display_name": "Python 3"
    }
  },
  "cells": [
    {
      "cell_type": "markdown",
      "metadata": {
        "id": "view-in-github",
        "colab_type": "text"
      },
      "source": [
        "<a href=\"https://colab.research.google.com/github/romulokps/testesPCR/blob/main/apiSIVEP.ipynb\" target=\"_parent\"><img src=\"https://colab.research.google.com/assets/colab-badge.svg\" alt=\"Open In Colab\"/></a>"
      ]
    },
    {
      "cell_type": "code",
      "metadata": {
        "id": "u7E5uWxA3fh6"
      },
      "source": [
        "!pip install elasticsearch"
      ],
      "execution_count": null,
      "outputs": []
    },
    {
      "cell_type": "code",
      "metadata": {
        "id": "7N2hQRQB3shL"
      },
      "source": [
        "#from datetime import datetime\n",
        "from elasticsearch import Elasticsearch, helpers\n",
        "import csv\n",
        "import pandas as pd\n",
        "#import sys\n",
        " \n",
        "async def write_results(res_df, uf):\n",
        "    csv_file = 'notificacoes_esusve_{}.csv.gz'.format(uf.lower())\n",
        "    res_df.to_csv(csv_file, index=False, quoting = csv.QUOTE_NONNUMERIC)\n",
        "    print('Data written to: {}'.format(csv_file))\n",
        "\n",
        "ufs = [\"AC\", \"AL\", \"AP\", \"AM\", \"BA\", \"CE\", \"DF\", \"ES\", \"GO\", \"MA\", \"MT\", \"MS\", \"MG\", \"PA\",\n",
        "       \"PB\", \"PE\", \"PI\", \"PR\", \"RJ\", \"RN\", \"RS\", \"RO\", \"RR\", \"SC\", \"SP\", \"SE\", \"TO\"]\n",
        "#ufs = [\"SP\"]\n",
        "\n",
        "caminho = '/content/drive/My Drive/dados/estados 2020-11-13/'\n",
        "for uf in ufs:\n",
        "#for uf in [\"complete\"]:\n",
        "    es = Elasticsearch('https://elasticsearch-saps.saude.gov.br',\n",
        "                    http_auth=('user-public-notificacoes', 'Za4qNXdyQNSa9YaA'))\n",
        " \n",
        "    index = 'desc-notificacoes-esusve-' + uf.lower()\n",
        "    #index = 'desc-notificacoes-esusve-*'\n",
        "    \n",
        "    res = es.search(index = index, scroll = '1m', size = 30000)\n",
        "    scroll_id = res['_scroll_id']\n",
        " \n",
        "    print('Data for {}. Total hits: {}'.format(uf, res['hits']['total']['value']))\n",
        "    res_hits = []\n",
        "    n = 0\n",
        "    while len(res['hits']['hits']):\n",
        "        res_hits += [x['_source'] for x in res['hits']['hits']]\n",
        "        if (uf == 'SP'):\n",
        "          if (len(res_hits) == 1800000):\n",
        "            res_hits = pd.DataFrame(res_hits)\n",
        "            res_hits.to_csv(caminho + 'SPN'+str(n))\n",
        "            n += 1\n",
        "            res_hits = []\n",
        "        print(\"Hits read: %d\" % len(res_hits))\n",
        "        scroll_id = res['_scroll_id']\n",
        "        res = es.scroll(scroll_id  = scroll_id, scroll = '1m')\n",
        " \n",
        "    res_hits = pd.DataFrame(res_hits)\n",
        "    res_hits.to_csv(caminho + uf)\n",
        "sp0 = pd.read_csv(caminho + 'SPN0')\n",
        "sp1 = pd.read_csv(caminho + 'SPN1')\n",
        "sp2 = pd.read_csv(caminho + 'SP')\n",
        "sp = pd.concat([sp0,sp1,sp2])\n",
        "sp.to_csv(caminho + \"SP\")"
      ],
      "execution_count": null,
      "outputs": []
    }
  ]
}